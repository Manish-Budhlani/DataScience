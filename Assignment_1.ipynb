{
 "cells": [
  {
   "cell_type": "markdown",
   "id": "dbeea6f4",
   "metadata": {},
   "source": [
    "1. In the below elements which of them are values or an expression? \n",
    "eg:- values can be integer or string and expressions will be mathematical operators.\n",
    "* \n",
    "'hello'\n",
    "-87.8\n",
    "- \n",
    "/ \n",
    "+\t\n",
    "6 \n"
   ]
  },
  {
   "cell_type": "markdown",
   "id": "bf18bffb",
   "metadata": {},
   "source": [
    "Ans - \n",
    "Expression - *,-,/,+\n",
    "Values – 'hello'-87.8, 6"
   ]
  },
  {
   "cell_type": "markdown",
   "id": "0c0d2268",
   "metadata": {},
   "source": [
    "2. What is the difference between string and variable?"
   ]
  },
  {
   "cell_type": "markdown",
   "id": "ee8184b2",
   "metadata": {},
   "source": [
    "Ans – String is a value enclosed in ‘’ or “” whereas variable holds such values.  "
   ]
  },
  {
   "cell_type": "markdown",
   "id": "656106ac",
   "metadata": {},
   "source": [
    "3. Describe three different data types."
   ]
  },
  {
   "cell_type": "markdown",
   "id": "9033e9b9",
   "metadata": {},
   "source": [
    "Ans –\n",
    "int data types contains integer number such as 0,1,2,3 etc\n",
    "float data types contains decimal number such as 0.1,0.2,1.1,1.2 etc\n",
    "str data types contains alphanumeric values enclosed in single quote or double quote"
   ]
  },
  {
   "cell_type": "markdown",
   "id": "7a141e18",
   "metadata": {},
   "source": [
    "4. What is an expression made up of? What do all expressions do?"
   ]
  },
  {
   "cell_type": "markdown",
   "id": "fa6cdb78",
   "metadata": {},
   "source": [
    "Ans – Expressions are made up of mathematical operators, with the help of expressions we can perform some tasks/calculations and derive result."
   ]
  },
  {
   "cell_type": "markdown",
   "id": "370a72b5",
   "metadata": {},
   "source": [
    "5. This assignment statements, like spam = 10. What is the difference between an expression and a statement?"
   ]
  },
  {
   "cell_type": "markdown",
   "id": "0cd790cc",
   "metadata": {},
   "source": [
    "Ans – Expression are made up of operators with the help of which we can perform some tasks/calculations. Statements are made up of expressions, values and variables.  "
   ]
  },
  {
   "cell_type": "markdown",
   "id": "7748f025",
   "metadata": {},
   "source": [
    "6. After running the following code, what does the variable bacon contain?\n",
    "bacon = 22\n",
    "bacon + 1"
   ]
  },
  {
   "cell_type": "markdown",
   "id": "73823724",
   "metadata": {},
   "source": [
    "Ans – bacon variable still return 22 as we have not assigned,\n",
    "bacon   = bacon +1 will return 23"
   ]
  },
  {
   "cell_type": "markdown",
   "id": "1a2c5fb0",
   "metadata": {},
   "source": [
    "7. What should the values of the following two terms be?\n",
    "'spam' + 'spamspam'\n",
    "'spam' * 3"
   ]
  },
  {
   "cell_type": "markdown",
   "id": "b2fcb3aa",
   "metadata": {},
   "source": [
    "Ans – \n",
    "both of above will return spamspamspam"
   ]
  },
  {
   "cell_type": "markdown",
   "id": "689fe966",
   "metadata": {},
   "source": [
    "8. Why is eggs a valid variable name while 100 is invalid?"
   ]
  },
  {
   "cell_type": "markdown",
   "id": "730d9a73",
   "metadata": {},
   "source": [
    "Ans – Variable name should start with alphabet and not number thus 100 is invalid variable name"
   ]
  },
  {
   "cell_type": "markdown",
   "id": "5e0b4214",
   "metadata": {},
   "source": [
    "9. What three functions can be used to get the integer, floating-point number, or string version of a value?"
   ]
  },
  {
   "cell_type": "markdown",
   "id": "68e0902a",
   "metadata": {},
   "source": [
    "Ans – \n",
    "To get integer, we need to use int\n",
    "To get floating-point number, we need to use float\n",
    "To get string, we need to use str"
   ]
  },
  {
   "cell_type": "markdown",
   "id": "5c86cd7f",
   "metadata": {},
   "source": [
    "10. Why does this expression cause an error? How can you fix it?\n",
    "'I have eaten ' + 99 + ' burritos.'"
   ]
  },
  {
   "cell_type": "markdown",
   "id": "7bdaddd3",
   "metadata": {},
   "source": [
    "Ans – \n",
    "We are adding integer value 99 to string thus it is causing error.\n",
    "We need to convert 99 value to string then it will work\n",
    "'I have eaten ' + str(99) + ' burritos.'"
   ]
  }
 ],
 "metadata": {
  "kernelspec": {
   "display_name": "Python 3 (ipykernel)",
   "language": "python",
   "name": "python3"
  },
  "language_info": {
   "codemirror_mode": {
    "name": "ipython",
    "version": 3
   },
   "file_extension": ".py",
   "mimetype": "text/x-python",
   "name": "python",
   "nbconvert_exporter": "python",
   "pygments_lexer": "ipython3",
   "version": "3.9.7"
  }
 },
 "nbformat": 4,
 "nbformat_minor": 5
}
